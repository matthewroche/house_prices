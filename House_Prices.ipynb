{
  "nbformat": 4,
  "nbformat_minor": 0,
  "metadata": {
    "colab": {
      "name": "House Prices.ipynb",
      "provenance": [],
      "collapsed_sections": [],
      "authorship_tag": "ABX9TyNcn7px370rRnbAYreLEH3t",
      "include_colab_link": true
    },
    "kernelspec": {
      "name": "python3",
      "display_name": "Python 3"
    },
    "language_info": {
      "name": "python"
    }
  },
  "cells": [
    {
      "cell_type": "markdown",
      "metadata": {
        "id": "view-in-github",
        "colab_type": "text"
      },
      "source": [
        "<a href=\"https://colab.research.google.com/github/matthewroche/house_prices/blob/main/House_Prices.ipynb\" target=\"_parent\"><img src=\"https://colab.research.google.com/assets/colab-badge.svg\" alt=\"Open In Colab\"/></a>"
      ]
    },
    {
      "cell_type": "code",
      "metadata": {
        "colab": {
          "resources": {
            "http://localhost:8080/nbextensions/google.colab/files.js": {
              "data": "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",
              "ok": true,
              "headers": [
                [
                  "content-type",
                  "application/javascript"
                ]
              ],
              "status": 200,
              "status_text": ""
            }
          },
          "base_uri": "https://localhost:8080/",
          "height": 94
        },
        "id": "Q5mUUEF-MncO",
        "outputId": "05948ad2-a6d7-4c48-e9db-4aee6c4e2181"
      },
      "source": [
        "from google.colab import files\n",
        "\n",
        "uploaded = files.upload()\n",
        "\n",
        "for fn in uploaded.keys():\n",
        "  print('User uploaded file \"{name}\" with length {length} bytes'.format(\n",
        "      name=fn, length=len(uploaded[fn])))\n",
        "  \n",
        "# Then move kaggle.json into the folder where the API expects to find it.\n",
        "!mkdir -p ~/.kaggle/ && mv kaggle.json ~/.kaggle/ && chmod 600 ~/.kaggle/kaggle.json\n",
        "\n"
      ],
      "execution_count": 1,
      "outputs": [
        {
          "output_type": "display_data",
          "data": {
            "text/html": [
              "\n",
              "     <input type=\"file\" id=\"files-86037d81-e52a-4871-8167-2fe1ef2ebf94\" name=\"files[]\" multiple disabled\n",
              "        style=\"border:none\" />\n",
              "     <output id=\"result-86037d81-e52a-4871-8167-2fe1ef2ebf94\">\n",
              "      Upload widget is only available when the cell has been executed in the\n",
              "      current browser session. Please rerun this cell to enable.\n",
              "      </output>\n",
              "      <script src=\"/nbextensions/google.colab/files.js\"></script> "
            ],
            "text/plain": [
              "<IPython.core.display.HTML object>"
            ]
          },
          "metadata": {}
        },
        {
          "output_type": "stream",
          "name": "stdout",
          "text": [
            "Saving kaggle.json to kaggle.json\n",
            "User uploaded file \"kaggle.json\" with length 68 bytes\n"
          ]
        }
      ]
    },
    {
      "cell_type": "code",
      "metadata": {
        "colab": {
          "base_uri": "https://localhost:8080/"
        },
        "id": "Sll_WmwFNNmq",
        "outputId": "15af99be-1c30-4513-9739-0a3822643ea6"
      },
      "source": [
        "import kaggle\n",
        "!kaggle competitions download house-prices-advanced-regression-techniques"
      ],
      "execution_count": 2,
      "outputs": [
        {
          "output_type": "stream",
          "name": "stdout",
          "text": [
            "Warning: Looks like you're using an outdated API Version, please consider updating (server 1.5.12 / client 1.5.4)\n",
            "Downloading sample_submission.csv to /content\n",
            "  0% 0.00/31.2k [00:00<?, ?B/s]\n",
            "100% 31.2k/31.2k [00:00<00:00, 27.3MB/s]\n",
            "Downloading train.csv to /content\n",
            "  0% 0.00/450k [00:00<?, ?B/s]\n",
            "100% 450k/450k [00:00<00:00, 62.5MB/s]\n",
            "Downloading data_description.txt to /content\n",
            "  0% 0.00/13.1k [00:00<?, ?B/s]\n",
            "100% 13.1k/13.1k [00:00<00:00, 13.8MB/s]\n",
            "Downloading test.csv to /content\n",
            "  0% 0.00/441k [00:00<?, ?B/s]\n",
            "100% 441k/441k [00:00<00:00, 79.6MB/s]\n"
          ]
        }
      ]
    },
    {
      "cell_type": "code",
      "metadata": {
        "colab": {
          "base_uri": "https://localhost:8080/"
        },
        "id": "4P2c3X9vNyCm",
        "outputId": "0702a8c9-b93e-4d34-f94a-c4fb9b5d5cb8"
      },
      "source": [
        "import pandas as pd\n",
        "\n",
        "train = pd.read_csv(\"train.csv\", na_filter=False)\n",
        "\n",
        "print(train.shape)\n",
        "print(train.columns)"
      ],
      "execution_count": 135,
      "outputs": [
        {
          "output_type": "stream",
          "name": "stdout",
          "text": [
            "(1460, 81)\n",
            "Index(['Id', 'MSSubClass', 'MSZoning', 'LotFrontage', 'LotArea', 'Street',\n",
            "       'Alley', 'LotShape', 'LandContour', 'Utilities', 'LotConfig',\n",
            "       'LandSlope', 'Neighborhood', 'Condition1', 'Condition2', 'BldgType',\n",
            "       'HouseStyle', 'OverallQual', 'OverallCond', 'YearBuilt', 'YearRemodAdd',\n",
            "       'RoofStyle', 'RoofMatl', 'Exterior1st', 'Exterior2nd', 'MasVnrType',\n",
            "       'MasVnrArea', 'ExterQual', 'ExterCond', 'Foundation', 'BsmtQual',\n",
            "       'BsmtCond', 'BsmtExposure', 'BsmtFinType1', 'BsmtFinSF1',\n",
            "       'BsmtFinType2', 'BsmtFinSF2', 'BsmtUnfSF', 'TotalBsmtSF', 'Heating',\n",
            "       'HeatingQC', 'CentralAir', 'Electrical', '1stFlrSF', '2ndFlrSF',\n",
            "       'LowQualFinSF', 'GrLivArea', 'BsmtFullBath', 'BsmtHalfBath', 'FullBath',\n",
            "       'HalfBath', 'BedroomAbvGr', 'KitchenAbvGr', 'KitchenQual',\n",
            "       'TotRmsAbvGrd', 'Functional', 'Fireplaces', 'FireplaceQu', 'GarageType',\n",
            "       'GarageYrBlt', 'GarageFinish', 'GarageCars', 'GarageArea', 'GarageQual',\n",
            "       'GarageCond', 'PavedDrive', 'WoodDeckSF', 'OpenPorchSF',\n",
            "       'EnclosedPorch', '3SsnPorch', 'ScreenPorch', 'PoolArea', 'PoolQC',\n",
            "       'Fence', 'MiscFeature', 'MiscVal', 'MoSold', 'YrSold', 'SaleType',\n",
            "       'SaleCondition', 'SalePrice'],\n",
            "      dtype='object')\n"
          ]
        }
      ]
    },
    {
      "cell_type": "code",
      "metadata": {
        "id": "qVlF3PMA8EkD"
      },
      "source": [
        "# Split inputs and outputs\n",
        "y = train[\"SalePrice\"]\n",
        "X = train.drop([\"SalePrice\"], axis=1)"
      ],
      "execution_count": 136,
      "outputs": []
    },
    {
      "cell_type": "code",
      "metadata": {
        "colab": {
          "base_uri": "https://localhost:8080/"
        },
        "id": "nZ6YjrrN1WNO",
        "outputId": "599dbe01-7bfe-40e6-f31b-38e991c00c41"
      },
      "source": [
        "# Create a test set\n",
        "from sklearn.model_selection import train_test_split\n",
        "train, test, y_train, y_test = train_test_split(X, y, test_size=0.33, random_state=42)\n",
        "print(train.shape)\n",
        "print(test.shape)\n",
        "print(y_train.shape)\n",
        "print(y_test.shape)"
      ],
      "execution_count": 137,
      "outputs": [
        {
          "output_type": "stream",
          "name": "stdout",
          "text": [
            "(978, 80)\n",
            "(482, 80)\n",
            "(978,)\n",
            "(482,)\n"
          ]
        }
      ]
    },
    {
      "cell_type": "code",
      "metadata": {
        "id": "sa-zuxkBO8Zt",
        "colab": {
          "base_uri": "https://localhost:8080/"
        },
        "outputId": "c248ac43-d68a-4559-b035-e5e2aa7e8908"
      },
      "source": [
        "# Drop ID column\n",
        "train.drop(labels=\"Id\", axis=1, inplace=True)\n",
        "test.drop(labels=[\"Id\"], axis=1, inplace=True)\n",
        "print(train.columns)"
      ],
      "execution_count": 138,
      "outputs": [
        {
          "output_type": "stream",
          "name": "stdout",
          "text": [
            "Index(['MSSubClass', 'MSZoning', 'LotFrontage', 'LotArea', 'Street', 'Alley',\n",
            "       'LotShape', 'LandContour', 'Utilities', 'LotConfig', 'LandSlope',\n",
            "       'Neighborhood', 'Condition1', 'Condition2', 'BldgType', 'HouseStyle',\n",
            "       'OverallQual', 'OverallCond', 'YearBuilt', 'YearRemodAdd', 'RoofStyle',\n",
            "       'RoofMatl', 'Exterior1st', 'Exterior2nd', 'MasVnrType', 'MasVnrArea',\n",
            "       'ExterQual', 'ExterCond', 'Foundation', 'BsmtQual', 'BsmtCond',\n",
            "       'BsmtExposure', 'BsmtFinType1', 'BsmtFinSF1', 'BsmtFinType2',\n",
            "       'BsmtFinSF2', 'BsmtUnfSF', 'TotalBsmtSF', 'Heating', 'HeatingQC',\n",
            "       'CentralAir', 'Electrical', '1stFlrSF', '2ndFlrSF', 'LowQualFinSF',\n",
            "       'GrLivArea', 'BsmtFullBath', 'BsmtHalfBath', 'FullBath', 'HalfBath',\n",
            "       'BedroomAbvGr', 'KitchenAbvGr', 'KitchenQual', 'TotRmsAbvGrd',\n",
            "       'Functional', 'Fireplaces', 'FireplaceQu', 'GarageType', 'GarageYrBlt',\n",
            "       'GarageFinish', 'GarageCars', 'GarageArea', 'GarageQual', 'GarageCond',\n",
            "       'PavedDrive', 'WoodDeckSF', 'OpenPorchSF', 'EnclosedPorch', '3SsnPorch',\n",
            "       'ScreenPorch', 'PoolArea', 'PoolQC', 'Fence', 'MiscFeature', 'MiscVal',\n",
            "       'MoSold', 'YrSold', 'SaleType', 'SaleCondition'],\n",
            "      dtype='object')\n"
          ]
        },
        {
          "output_type": "stream",
          "name": "stderr",
          "text": [
            "/usr/local/lib/python3.7/dist-packages/pandas/core/frame.py:4174: SettingWithCopyWarning: \n",
            "A value is trying to be set on a copy of a slice from a DataFrame\n",
            "\n",
            "See the caveats in the documentation: https://pandas.pydata.org/pandas-docs/stable/user_guide/indexing.html#returning-a-view-versus-a-copy\n",
            "  errors=errors,\n"
          ]
        }
      ]
    },
    {
      "cell_type": "code",
      "metadata": {
        "colab": {
          "base_uri": "https://localhost:8080/"
        },
        "id": "JAstE0ytARTz",
        "outputId": "b1b18b4f-c4fd-4f42-f141-3cbc92c548f0"
      },
      "source": [
        "print(train.columns.to_list())"
      ],
      "execution_count": 139,
      "outputs": [
        {
          "output_type": "stream",
          "name": "stdout",
          "text": [
            "['MSSubClass', 'MSZoning', 'LotFrontage', 'LotArea', 'Street', 'Alley', 'LotShape', 'LandContour', 'Utilities', 'LotConfig', 'LandSlope', 'Neighborhood', 'Condition1', 'Condition2', 'BldgType', 'HouseStyle', 'OverallQual', 'OverallCond', 'YearBuilt', 'YearRemodAdd', 'RoofStyle', 'RoofMatl', 'Exterior1st', 'Exterior2nd', 'MasVnrType', 'MasVnrArea', 'ExterQual', 'ExterCond', 'Foundation', 'BsmtQual', 'BsmtCond', 'BsmtExposure', 'BsmtFinType1', 'BsmtFinSF1', 'BsmtFinType2', 'BsmtFinSF2', 'BsmtUnfSF', 'TotalBsmtSF', 'Heating', 'HeatingQC', 'CentralAir', 'Electrical', '1stFlrSF', '2ndFlrSF', 'LowQualFinSF', 'GrLivArea', 'BsmtFullBath', 'BsmtHalfBath', 'FullBath', 'HalfBath', 'BedroomAbvGr', 'KitchenAbvGr', 'KitchenQual', 'TotRmsAbvGrd', 'Functional', 'Fireplaces', 'FireplaceQu', 'GarageType', 'GarageYrBlt', 'GarageFinish', 'GarageCars', 'GarageArea', 'GarageQual', 'GarageCond', 'PavedDrive', 'WoodDeckSF', 'OpenPorchSF', 'EnclosedPorch', '3SsnPorch', 'ScreenPorch', 'PoolArea', 'PoolQC', 'Fence', 'MiscFeature', 'MiscVal', 'MoSold', 'YrSold', 'SaleType', 'SaleCondition']\n"
          ]
        }
      ]
    },
    {
      "cell_type": "code",
      "metadata": {
        "id": "ciOD8QWM7a8X"
      },
      "source": [
        "# Notice lot frontage has been processed as a string as it contains \"NA\"s\n",
        "# Replace NA's with mean\n",
        "\n",
        "def handleColumnWithNA(df, colName, **means):\n",
        "  df = df.copy()\n",
        "  df[colName] = pd.to_numeric(df[colName], errors=\"coerce\", downcast=\"float\")\n",
        "  if colName in means:\n",
        "    df[colName].fillna(means[colName], inplace = True)\n",
        "  else:\n",
        "    df[colName].fillna(df[colName].mean(), inplace = True)\n",
        "  return df\n",
        "\n",
        "train = handleColumnWithNA(train, \"LotFrontage\")\n",
        "\n",
        "means = train.mean(axis=0)"
      ],
      "execution_count": 140,
      "outputs": []
    },
    {
      "cell_type": "code",
      "metadata": {
        "colab": {
          "base_uri": "https://localhost:8080/"
        },
        "id": "1_xzqH8raO8F",
        "outputId": "98a5d7a9-427a-4fcd-9991-51594d60db65"
      },
      "source": [
        "# Wide range of means and standard deviations - lets adjust\n",
        "\n",
        "trainBeforeNormalisation = train\n",
        "\n",
        "import numpy as np\n",
        "from sklearn import preprocessing\n",
        "from pandas.api.types import is_numeric_dtype\n",
        "min_max_scaler = preprocessing.MinMaxScaler()\n",
        "\n",
        "def performNumericScaling(df, initial):\n",
        "  # First get only the columns containing numeric data\n",
        "  df = df.copy()\n",
        "  numericCols = []\n",
        "  for col in df.columns:\n",
        "    if is_numeric_dtype(df.dtypes[col]):\n",
        "      numericCols.append(col)\n",
        "  print(numericCols)\n",
        "  #numericDf = df[numericCols]\n",
        "\n",
        "  # # Do the scaling\n",
        "  #x = numericDf.values #returns a numpy array\n",
        "  if initial:\n",
        "    min_max_scaler.fit(df[numericCols])\n",
        "  df[numericCols] = min_max_scaler.transform(df[numericCols])\n",
        "  #x_scaled = min_max_scaler.transform(x)\n",
        "  #numericDf = pd.DataFrame(x_scaled, columns=numericDf.columns)\n",
        "\n",
        "  # Put the scaled columns back into our original data frame\n",
        "  #df.drop(numericCols, axis=1, inplace=True)\n",
        "  #print(df.isna().sum().sum())\n",
        "  #print(numericDf.isna().sum().sum())\n",
        "  #df = df.join(numericDf)\n",
        "\n",
        "  return df\n",
        "\n",
        "train = performNumericScaling(train, True)"
      ],
      "execution_count": 141,
      "outputs": [
        {
          "output_type": "stream",
          "name": "stdout",
          "text": [
            "['MSSubClass', 'LotFrontage', 'LotArea', 'OverallQual', 'OverallCond', 'YearBuilt', 'YearRemodAdd', 'BsmtFinSF1', 'BsmtFinSF2', 'BsmtUnfSF', 'TotalBsmtSF', '1stFlrSF', '2ndFlrSF', 'LowQualFinSF', 'GrLivArea', 'BsmtFullBath', 'BsmtHalfBath', 'FullBath', 'HalfBath', 'BedroomAbvGr', 'KitchenAbvGr', 'TotRmsAbvGrd', 'Fireplaces', 'GarageCars', 'GarageArea', 'WoodDeckSF', 'OpenPorchSF', 'EnclosedPorch', '3SsnPorch', 'ScreenPorch', 'PoolArea', 'MiscVal', 'MoSold', 'YrSold']\n"
          ]
        }
      ]
    },
    {
      "cell_type": "code",
      "metadata": {
        "colab": {
          "base_uri": "https://localhost:8080/"
        },
        "id": "3i3h7efCjUGj",
        "outputId": "ef4b7b80-58b6-48ab-c0ae-3f783106ad81"
      },
      "source": [
        "print(train.shape)\n",
        "print(train.isnull().sum())\n",
        "print(train.isnull().sum().sum())"
      ],
      "execution_count": 142,
      "outputs": [
        {
          "output_type": "stream",
          "name": "stdout",
          "text": [
            "(978, 79)\n",
            "MSSubClass       0\n",
            "MSZoning         0\n",
            "LotFrontage      0\n",
            "LotArea          0\n",
            "Street           0\n",
            "                ..\n",
            "MiscVal          0\n",
            "MoSold           0\n",
            "YrSold           0\n",
            "SaleType         0\n",
            "SaleCondition    0\n",
            "Length: 79, dtype: int64\n",
            "0\n"
          ]
        }
      ]
    },
    {
      "cell_type": "code",
      "metadata": {
        "id": "Iy0qE1TQgrYg",
        "colab": {
          "base_uri": "https://localhost:8080/"
        },
        "outputId": "24e5d14f-42fc-4bd4-bc50-ad55a15c29a0"
      },
      "source": [
        "# Encode strings\n",
        "\n",
        "from sklearn.preprocessing import OneHotEncoder\n",
        "enc = OneHotEncoder(handle_unknown='ignore', sparse=True)\n",
        "\n",
        "def performOneHotEncoding(df, initial):\n",
        "\n",
        "  originalDf = df\n",
        "\n",
        "  strCols = []\n",
        "  for col in df.columns:\n",
        "    if df.dtypes[col] == object:\n",
        "      strCols.append(col)\n",
        "  print(strCols)\n",
        "\n",
        "  # Build a new data frame with just these columns\n",
        "  #stringDf = df[strCols]\n",
        "  \n",
        "  if initial:\n",
        "    enc.fit(df[strCols])\n",
        "  fit = pd.DataFrame(enc.transform(df[strCols]).toarray())\n",
        "\n",
        "  print(fit.isnull().sum().sum())\n",
        "\n",
        "  # Not adding column headers as they don't matter\n",
        "  #stringDfEncoded = pd.DataFrame(fit)\n",
        "\n",
        "  df.drop(labels=strCols, axis=1, inplace=True)\n",
        "\n",
        "  print(df.isnull().sum().sum())\n",
        "\n",
        "  #df = df.join(fit)\n",
        "  df = pd.merge(df.reset_index(), fit.reset_index(), how=\"outer\", left_index=True, right_index=True)\n",
        "\n",
        "  print(df.isnull().sum().sum())\n",
        "\n",
        "  df.drop(labels=[\"index_x\", \"index_y\"], axis=1, inplace=True)\n",
        "\n",
        "  if df.isnull().sum().sum() == 0:\n",
        "    return df\n",
        "  else:\n",
        "    print(\"Nothing returned as nulls were found\")\n",
        "    return originalDf\n",
        "  \n",
        "train = performOneHotEncoding(train, True)"
      ],
      "execution_count": 143,
      "outputs": [
        {
          "output_type": "stream",
          "name": "stdout",
          "text": [
            "['MSZoning', 'Street', 'Alley', 'LotShape', 'LandContour', 'Utilities', 'LotConfig', 'LandSlope', 'Neighborhood', 'Condition1', 'Condition2', 'BldgType', 'HouseStyle', 'RoofStyle', 'RoofMatl', 'Exterior1st', 'Exterior2nd', 'MasVnrType', 'MasVnrArea', 'ExterQual', 'ExterCond', 'Foundation', 'BsmtQual', 'BsmtCond', 'BsmtExposure', 'BsmtFinType1', 'BsmtFinType2', 'Heating', 'HeatingQC', 'CentralAir', 'Electrical', 'KitchenQual', 'Functional', 'FireplaceQu', 'GarageType', 'GarageYrBlt', 'GarageFinish', 'GarageQual', 'GarageCond', 'PavedDrive', 'PoolQC', 'Fence', 'MiscFeature', 'SaleType', 'SaleCondition']\n",
            "0\n",
            "0\n",
            "0\n"
          ]
        }
      ]
    },
    {
      "cell_type": "code",
      "metadata": {
        "id": "Uu1fEddMddKi",
        "colab": {
          "base_uri": "https://localhost:8080/"
        },
        "outputId": "aaad13c3-e4b3-4ca1-ca41-7dbe8d36c11c"
      },
      "source": [
        "# Process training data too\n",
        "test = handleColumnWithNA(test, \"LotFrontage\")\n",
        "test = performNumericScaling(test, False)\n",
        "test = performOneHotEncoding(test, False)"
      ],
      "execution_count": 144,
      "outputs": [
        {
          "output_type": "stream",
          "name": "stdout",
          "text": [
            "['MSSubClass', 'LotFrontage', 'LotArea', 'OverallQual', 'OverallCond', 'YearBuilt', 'YearRemodAdd', 'BsmtFinSF1', 'BsmtFinSF2', 'BsmtUnfSF', 'TotalBsmtSF', '1stFlrSF', '2ndFlrSF', 'LowQualFinSF', 'GrLivArea', 'BsmtFullBath', 'BsmtHalfBath', 'FullBath', 'HalfBath', 'BedroomAbvGr', 'KitchenAbvGr', 'TotRmsAbvGrd', 'Fireplaces', 'GarageCars', 'GarageArea', 'WoodDeckSF', 'OpenPorchSF', 'EnclosedPorch', '3SsnPorch', 'ScreenPorch', 'PoolArea', 'MiscVal', 'MoSold', 'YrSold']\n",
            "['MSZoning', 'Street', 'Alley', 'LotShape', 'LandContour', 'Utilities', 'LotConfig', 'LandSlope', 'Neighborhood', 'Condition1', 'Condition2', 'BldgType', 'HouseStyle', 'RoofStyle', 'RoofMatl', 'Exterior1st', 'Exterior2nd', 'MasVnrType', 'MasVnrArea', 'ExterQual', 'ExterCond', 'Foundation', 'BsmtQual', 'BsmtCond', 'BsmtExposure', 'BsmtFinType1', 'BsmtFinType2', 'Heating', 'HeatingQC', 'CentralAir', 'Electrical', 'KitchenQual', 'Functional', 'FireplaceQu', 'GarageType', 'GarageYrBlt', 'GarageFinish', 'GarageQual', 'GarageCond', 'PavedDrive', 'PoolQC', 'Fence', 'MiscFeature', 'SaleType', 'SaleCondition']\n",
            "0\n",
            "0\n",
            "0\n"
          ]
        }
      ]
    },
    {
      "cell_type": "code",
      "metadata": {
        "colab": {
          "base_uri": "https://localhost:8080/"
        },
        "id": "plgmYFbIdX0k",
        "outputId": "48d20523-084c-40b5-bcbe-929b33d3bb36"
      },
      "source": [
        "# Train a neural net\n",
        "from sklearn.neural_network import MLPRegressor\n",
        "clf = MLPRegressor(solver=\"adam\", alpha=1e-5, hidden_layer_sizes=(100, 25, 10), random_state=1, max_iter=500, tol=0.000001, learning_rate=\"adaptive\", verbose=True)\n",
        "clf.fit(train, y_train)"
      ],
      "execution_count": 146,
      "outputs": [
        {
          "output_type": "stream",
          "name": "stdout",
          "text": [
            "Iteration 1, loss = 19287405308.17708588\n",
            "Iteration 2, loss = 19287277557.50080109\n",
            "Iteration 3, loss = 19287124725.76317215\n",
            "Iteration 4, loss = 19286912444.14906311\n",
            "Iteration 5, loss = 19286609770.61810684\n",
            "Iteration 6, loss = 19286191738.31081390\n",
            "Iteration 7, loss = 19285637599.68098831\n",
            "Iteration 8, loss = 19284902291.51397705\n",
            "Iteration 9, loss = 19283954316.49563599\n",
            "Iteration 10, loss = 19282721928.57011795\n",
            "Iteration 11, loss = 19281148927.23197937\n",
            "Iteration 12, loss = 19279176311.86053848\n",
            "Iteration 13, loss = 19276673801.69610214\n",
            "Iteration 14, loss = 19273644085.11257553\n",
            "Iteration 15, loss = 19269905725.84828949\n",
            "Iteration 16, loss = 19265363468.46139908\n",
            "Iteration 17, loss = 19259939691.00127792\n",
            "Iteration 18, loss = 19253380404.49276352\n",
            "Iteration 19, loss = 19245675787.27572632\n",
            "Iteration 20, loss = 19236674976.06734467\n",
            "Iteration 21, loss = 19226093233.54881668\n",
            "Iteration 22, loss = 19213789353.86271286\n",
            "Iteration 23, loss = 19199494240.58084869\n",
            "Iteration 24, loss = 19183186478.25727081\n",
            "Iteration 25, loss = 19164410209.97486496\n",
            "Iteration 26, loss = 19142927147.28115845\n",
            "Iteration 27, loss = 19118661320.36391449\n",
            "Iteration 28, loss = 19091466774.20734787\n",
            "Iteration 29, loss = 19060356114.44340515\n",
            "Iteration 30, loss = 19026489727.47381592\n",
            "Iteration 31, loss = 18988173494.08073044\n",
            "Iteration 32, loss = 18945099609.88611984\n",
            "Iteration 33, loss = 18898596255.51669693\n",
            "Iteration 34, loss = 18846534118.55453491\n",
            "Iteration 35, loss = 18789315592.99802017\n",
            "Iteration 36, loss = 18726695480.54081345\n",
            "Iteration 37, loss = 18657757051.95076370\n",
            "Iteration 38, loss = 18583142358.02639008\n",
            "Iteration 39, loss = 18502652967.86538315\n",
            "Iteration 40, loss = 18413606817.78420258\n",
            "Iteration 41, loss = 18317371213.35487747\n",
            "Iteration 42, loss = 18214805824.60002899\n",
            "Iteration 43, loss = 18103099611.88482285\n",
            "Iteration 44, loss = 17982450870.74886703\n",
            "Iteration 45, loss = 17854321675.65071487\n",
            "Iteration 46, loss = 17717492701.34628296\n",
            "Iteration 47, loss = 17568975517.20331573\n",
            "Iteration 48, loss = 17413018565.01772690\n",
            "Iteration 49, loss = 17247270547.05743408\n",
            "Iteration 50, loss = 17068747013.34200287\n",
            "Iteration 51, loss = 16881364344.16084290\n",
            "Iteration 52, loss = 16684212821.65184021\n",
            "Iteration 53, loss = 16475796859.05554962\n",
            "Iteration 54, loss = 16255252236.53996277\n",
            "Iteration 55, loss = 16023175226.70151329\n",
            "Iteration 56, loss = 15780921278.20343781\n",
            "Iteration 57, loss = 15529860678.96052361\n",
            "Iteration 58, loss = 15265036512.57597351\n",
            "Iteration 59, loss = 14991074132.64520264\n",
            "Iteration 60, loss = 14702011878.62540817\n",
            "Iteration 61, loss = 14408352334.33665657\n",
            "Iteration 62, loss = 14099998008.45836067\n",
            "Iteration 63, loss = 13784497895.46331787\n",
            "Iteration 64, loss = 13459595768.01426697\n",
            "Iteration 65, loss = 13123063457.76105690\n",
            "Iteration 66, loss = 12777338035.25172234\n",
            "Iteration 67, loss = 12427542176.37065697\n",
            "Iteration 68, loss = 12070255462.91950989\n",
            "Iteration 69, loss = 11704615894.55350876\n",
            "Iteration 70, loss = 11336922934.39376831\n",
            "Iteration 71, loss = 10959436509.60031319\n",
            "Iteration 72, loss = 10583159742.03516388\n",
            "Iteration 73, loss = 10198239995.01077080\n",
            "Iteration 74, loss = 9818420127.99526978\n",
            "Iteration 75, loss = 9438480539.50343323\n",
            "Iteration 76, loss = 9051606307.86938477\n",
            "Iteration 77, loss = 8675561117.69596672\n",
            "Iteration 78, loss = 8295039776.37342644\n",
            "Iteration 79, loss = 7928783583.96875286\n",
            "Iteration 80, loss = 7556652588.88425446\n",
            "Iteration 81, loss = 7199709215.83875561\n",
            "Iteration 82, loss = 6853743731.44384670\n",
            "Iteration 83, loss = 6508747135.11686420\n",
            "Iteration 84, loss = 6178885563.28040886\n",
            "Iteration 85, loss = 5860009099.71271706\n",
            "Iteration 86, loss = 5558015672.82461643\n",
            "Iteration 87, loss = 5265865551.15205383\n",
            "Iteration 88, loss = 4990864734.74449158\n",
            "Iteration 89, loss = 4730336867.52299881\n",
            "Iteration 90, loss = 4483489933.59183598\n",
            "Iteration 91, loss = 4261533637.82374716\n",
            "Iteration 92, loss = 4044704314.30486917\n",
            "Iteration 93, loss = 3851894983.75720358\n",
            "Iteration 94, loss = 3667691985.08534431\n",
            "Iteration 95, loss = 3507525006.64033937\n",
            "Iteration 96, loss = 3355945554.06714439\n",
            "Iteration 97, loss = 3223797402.53686762\n",
            "Iteration 98, loss = 3100322571.62910366\n",
            "Iteration 99, loss = 2989317726.90243864\n",
            "Iteration 100, loss = 2897270119.23600864\n",
            "Iteration 101, loss = 2810569332.96345806\n",
            "Iteration 102, loss = 2736370635.41343737\n",
            "Iteration 103, loss = 2667352868.42806196\n",
            "Iteration 104, loss = 2612084249.47623301\n",
            "Iteration 105, loss = 2560066718.98149061\n",
            "Iteration 106, loss = 2512715622.19633961\n",
            "Iteration 107, loss = 2474453237.18001699\n",
            "Iteration 108, loss = 2438441908.43922949\n",
            "Iteration 109, loss = 2408097404.57934999\n",
            "Iteration 110, loss = 2378717429.64035702\n",
            "Iteration 111, loss = 2353848800.89662218\n",
            "Iteration 112, loss = 2330855768.26024675\n",
            "Iteration 113, loss = 2310212116.01430988\n",
            "Iteration 114, loss = 2291038992.71900940\n",
            "Iteration 115, loss = 2271667527.07271862\n",
            "Iteration 116, loss = 2255160651.08658171\n",
            "Iteration 117, loss = 2239381879.31173086\n",
            "Iteration 118, loss = 2223551824.54568481\n",
            "Iteration 119, loss = 2208689862.65993214\n",
            "Iteration 120, loss = 2194177882.39841986\n",
            "Iteration 121, loss = 2180473340.14123678\n",
            "Iteration 122, loss = 2166669147.37730074\n",
            "Iteration 123, loss = 2153674598.94077158\n",
            "Iteration 124, loss = 2140496897.16090655\n",
            "Iteration 125, loss = 2128284239.66573000\n",
            "Iteration 126, loss = 2115080863.13649297\n",
            "Iteration 127, loss = 2102670631.63987756\n",
            "Iteration 128, loss = 2090554827.62461209\n",
            "Iteration 129, loss = 2078712000.79515982\n",
            "Iteration 130, loss = 2067075307.23333502\n",
            "Iteration 131, loss = 2055466770.83443642\n",
            "Iteration 132, loss = 2043426507.30819011\n",
            "Iteration 133, loss = 2032061731.41514564\n",
            "Iteration 134, loss = 2020776754.74627709\n",
            "Iteration 135, loss = 2009097184.17674565\n",
            "Iteration 136, loss = 1998342383.50942683\n",
            "Iteration 137, loss = 1987424489.24883842\n",
            "Iteration 138, loss = 1976321165.04226327\n",
            "Iteration 139, loss = 1965481398.67990208\n",
            "Iteration 140, loss = 1954790448.78994274\n",
            "Iteration 141, loss = 1944253730.95993853\n",
            "Iteration 142, loss = 1933760222.10825968\n",
            "Iteration 143, loss = 1923181518.57522011\n",
            "Iteration 144, loss = 1912784553.46121335\n",
            "Iteration 145, loss = 1902457119.86218834\n",
            "Iteration 146, loss = 1892299270.22951055\n",
            "Iteration 147, loss = 1882346930.77432632\n",
            "Iteration 148, loss = 1872076515.73636651\n",
            "Iteration 149, loss = 1862704407.90120840\n",
            "Iteration 150, loss = 1852609387.76175666\n",
            "Iteration 151, loss = 1842572592.60719156\n",
            "Iteration 152, loss = 1833252003.38958430\n",
            "Iteration 153, loss = 1823371628.64692640\n",
            "Iteration 154, loss = 1813754092.06504989\n",
            "Iteration 155, loss = 1804253556.98529959\n",
            "Iteration 156, loss = 1794747418.92907190\n",
            "Iteration 157, loss = 1785694847.88324165\n",
            "Iteration 158, loss = 1776618762.90991712\n",
            "Iteration 159, loss = 1767199314.61216235\n",
            "Iteration 160, loss = 1758243870.19226503\n",
            "Iteration 161, loss = 1748816930.58746624\n",
            "Iteration 162, loss = 1739990556.02751994\n",
            "Iteration 163, loss = 1731257796.88383913\n",
            "Iteration 164, loss = 1722096962.03143477\n",
            "Iteration 165, loss = 1713670981.54597425\n",
            "Iteration 166, loss = 1704691933.78476214\n",
            "Iteration 167, loss = 1696211397.30453849\n",
            "Iteration 168, loss = 1687541439.48765111\n",
            "Iteration 169, loss = 1679186315.90138912\n",
            "Iteration 170, loss = 1670627917.65359759\n",
            "Iteration 171, loss = 1661931867.28038120\n",
            "Iteration 172, loss = 1653784136.88084388\n",
            "Iteration 173, loss = 1645441552.75972486\n",
            "Iteration 174, loss = 1636998429.37997007\n",
            "Iteration 175, loss = 1629336589.62614942\n",
            "Iteration 176, loss = 1620800396.23827243\n",
            "Iteration 177, loss = 1612726426.24107122\n",
            "Iteration 178, loss = 1604678011.15106344\n",
            "Iteration 179, loss = 1596895470.69223499\n",
            "Iteration 180, loss = 1589224092.76070833\n",
            "Iteration 181, loss = 1580996061.72914624\n",
            "Iteration 182, loss = 1573282192.37286735\n",
            "Iteration 183, loss = 1565530950.13982034\n",
            "Iteration 184, loss = 1557689882.62731814\n",
            "Iteration 185, loss = 1550297179.83640862\n",
            "Iteration 186, loss = 1543369897.58734107\n",
            "Iteration 187, loss = 1534920150.13626146\n",
            "Iteration 188, loss = 1527541524.13235283\n",
            "Iteration 189, loss = 1520118487.90264535\n",
            "Iteration 190, loss = 1512794811.13886547\n",
            "Iteration 191, loss = 1505577026.45685554\n",
            "Iteration 192, loss = 1498360943.06568289\n",
            "Iteration 193, loss = 1491004042.84355378\n",
            "Iteration 194, loss = 1483793599.54397726\n",
            "Iteration 195, loss = 1476745911.80353332\n",
            "Iteration 196, loss = 1469855795.16490674\n",
            "Iteration 197, loss = 1462471115.98425651\n",
            "Iteration 198, loss = 1455704423.33987451\n",
            "Iteration 199, loss = 1448547995.58547115\n",
            "Iteration 200, loss = 1441751634.60983706\n",
            "Iteration 201, loss = 1434967504.96977067\n",
            "Iteration 202, loss = 1428809472.06272602\n",
            "Iteration 203, loss = 1421460179.87882662\n",
            "Iteration 204, loss = 1414615240.39800572\n",
            "Iteration 205, loss = 1407964098.58330250\n",
            "Iteration 206, loss = 1401428194.62230229\n",
            "Iteration 207, loss = 1394986591.62432814\n",
            "Iteration 208, loss = 1388513818.38129163\n",
            "Iteration 209, loss = 1381682774.03546381\n",
            "Iteration 210, loss = 1375381213.87331343\n",
            "Iteration 211, loss = 1369189519.49916005\n",
            "Iteration 212, loss = 1362733462.19854283\n",
            "Iteration 213, loss = 1356217887.57280207\n",
            "Iteration 214, loss = 1349982826.26817536\n",
            "Iteration 215, loss = 1344223451.55885673\n",
            "Iteration 216, loss = 1338071431.82888937\n",
            "Iteration 217, loss = 1331339645.92981935\n",
            "Iteration 218, loss = 1325496581.57348466\n",
            "Iteration 219, loss = 1319313417.73509550\n",
            "Iteration 220, loss = 1313352202.21010089\n",
            "Iteration 221, loss = 1307468832.39514208\n",
            "Iteration 222, loss = 1301282910.69610500\n",
            "Iteration 223, loss = 1295572143.34896517\n",
            "Iteration 224, loss = 1289837587.73586035\n",
            "Iteration 225, loss = 1283989315.10132957\n",
            "Iteration 226, loss = 1278044625.52287722\n",
            "Iteration 227, loss = 1272479903.59014940\n",
            "Iteration 228, loss = 1266692215.53653836\n",
            "Iteration 229, loss = 1261090280.53781128\n",
            "Iteration 230, loss = 1255441305.94676161\n",
            "Iteration 231, loss = 1249825700.07313132\n",
            "Iteration 232, loss = 1244414309.39499593\n",
            "Iteration 233, loss = 1238799080.28848791\n",
            "Iteration 234, loss = 1233370304.63301563\n",
            "Iteration 235, loss = 1227916137.88677049\n",
            "Iteration 236, loss = 1222560916.13036489\n",
            "Iteration 237, loss = 1217329643.92225003\n",
            "Iteration 238, loss = 1211799684.23230195\n",
            "Iteration 239, loss = 1206616299.87675619\n",
            "Iteration 240, loss = 1201224984.54794240\n",
            "Iteration 241, loss = 1196163254.82200789\n",
            "Iteration 242, loss = 1191132330.57254004\n",
            "Iteration 243, loss = 1185881552.32689977\n",
            "Iteration 244, loss = 1180989933.66203690\n",
            "Iteration 245, loss = 1175891934.91652536\n",
            "Iteration 246, loss = 1170634991.19252110\n",
            "Iteration 247, loss = 1165831343.25089645\n",
            "Iteration 248, loss = 1160674076.57387495\n",
            "Iteration 249, loss = 1156021693.27631664\n",
            "Iteration 250, loss = 1150988579.08793020\n",
            "Iteration 251, loss = 1146771747.53878713\n",
            "Iteration 252, loss = 1141505319.09003925\n",
            "Iteration 253, loss = 1136631703.04152799\n",
            "Iteration 254, loss = 1131839241.43437862\n",
            "Iteration 255, loss = 1127227758.13037777\n",
            "Iteration 256, loss = 1122615516.51286483\n",
            "Iteration 257, loss = 1118252384.65269780\n",
            "Iteration 258, loss = 1113277378.05037642\n",
            "Iteration 259, loss = 1108755536.78141737\n",
            "Iteration 260, loss = 1104158557.24285746\n",
            "Iteration 261, loss = 1099771323.55535078\n",
            "Iteration 262, loss = 1095206019.50682950\n",
            "Iteration 263, loss = 1090893203.84339261\n",
            "Iteration 264, loss = 1086340042.67898870\n",
            "Iteration 265, loss = 1082111725.82226801\n",
            "Iteration 266, loss = 1077473637.79766250\n",
            "Iteration 267, loss = 1073444631.62437844\n",
            "Iteration 268, loss = 1069074785.29616976\n",
            "Iteration 269, loss = 1064805697.18471789\n",
            "Iteration 270, loss = 1060488955.83976662\n",
            "Iteration 271, loss = 1056509157.22240055\n",
            "Iteration 272, loss = 1052253015.01141894\n",
            "Iteration 273, loss = 1048198203.47242320\n",
            "Iteration 274, loss = 1044026994.76016164\n",
            "Iteration 275, loss = 1039889053.20618796\n",
            "Iteration 276, loss = 1035897918.79868102\n",
            "Iteration 277, loss = 1032015820.75248706\n",
            "Iteration 278, loss = 1028194718.60731280\n",
            "Iteration 279, loss = 1024113490.84577715\n",
            "Iteration 280, loss = 1020053653.46976411\n",
            "Iteration 281, loss = 1016054447.43583584\n",
            "Iteration 282, loss = 1012361285.35374188\n",
            "Iteration 283, loss = 1008523416.01256049\n",
            "Iteration 284, loss = 1004536827.51872897\n",
            "Iteration 285, loss = 1001043946.00017273\n",
            "Iteration 286, loss = 997084717.79898047\n",
            "Iteration 287, loss = 993395701.03993738\n",
            "Iteration 288, loss = 989688961.92715740\n",
            "Iteration 289, loss = 986073780.20640707\n",
            "Iteration 290, loss = 982310198.27670324\n",
            "Iteration 291, loss = 978700212.31468403\n",
            "Iteration 292, loss = 975038904.34015632\n",
            "Iteration 293, loss = 971850976.41270947\n",
            "Iteration 294, loss = 967822742.93791604\n",
            "Iteration 295, loss = 964480643.48966396\n",
            "Iteration 296, loss = 960831919.76787364\n",
            "Iteration 297, loss = 957441437.81211698\n",
            "Iteration 298, loss = 953981639.20701146\n",
            "Iteration 299, loss = 950509741.53000128\n",
            "Iteration 300, loss = 947113057.83116627\n",
            "Iteration 301, loss = 943761740.10655451\n",
            "Iteration 302, loss = 940567151.61204147\n",
            "Iteration 303, loss = 936958354.54013264\n",
            "Iteration 304, loss = 933649081.07468462\n",
            "Iteration 305, loss = 930425098.77123678\n",
            "Iteration 306, loss = 927095608.93012941\n",
            "Iteration 307, loss = 924020724.54136252\n",
            "Iteration 308, loss = 920550819.62117159\n",
            "Iteration 309, loss = 917469467.19448328\n",
            "Iteration 310, loss = 914180637.73382485\n",
            "Iteration 311, loss = 911055823.53614867\n",
            "Iteration 312, loss = 907865834.10399830\n",
            "Iteration 313, loss = 904824396.73284256\n",
            "Iteration 314, loss = 901629499.09766674\n",
            "Iteration 315, loss = 898518639.92349911\n",
            "Iteration 316, loss = 895587486.04315031\n",
            "Iteration 317, loss = 892534619.66353202\n",
            "Iteration 318, loss = 889465493.46076548\n",
            "Iteration 319, loss = 886585041.39097083\n",
            "Iteration 320, loss = 883420564.50578237\n",
            "Iteration 321, loss = 880582443.57961226\n",
            "Iteration 322, loss = 877477627.29592466\n",
            "Iteration 323, loss = 874572589.53472054\n",
            "Iteration 324, loss = 872023291.44048929\n",
            "Iteration 325, loss = 868768714.45370793\n",
            "Iteration 326, loss = 865929786.30815339\n",
            "Iteration 327, loss = 863206872.09567320\n",
            "Iteration 328, loss = 860298499.98925900\n",
            "Iteration 329, loss = 857361592.77865744\n",
            "Iteration 330, loss = 854518367.08925426\n",
            "Iteration 331, loss = 852072232.68768287\n",
            "Iteration 332, loss = 849053060.97347343\n",
            "Iteration 333, loss = 846144452.54611826\n",
            "Iteration 334, loss = 843508475.77634716\n",
            "Iteration 335, loss = 840728285.61522710\n",
            "Iteration 336, loss = 838305486.86887431\n",
            "Iteration 337, loss = 835351565.63876450\n",
            "Iteration 338, loss = 832629826.71260226\n",
            "Iteration 339, loss = 830071955.94057310\n",
            "Iteration 340, loss = 827337845.96532762\n",
            "Iteration 341, loss = 824771667.85775292\n",
            "Iteration 342, loss = 822141816.33710802\n",
            "Iteration 343, loss = 819611532.16025817\n",
            "Iteration 344, loss = 816845827.73579204\n",
            "Iteration 345, loss = 814334531.00501013\n",
            "Iteration 346, loss = 811802373.71235466\n",
            "Iteration 347, loss = 809134104.32275343\n",
            "Iteration 348, loss = 806786205.02572656\n",
            "Iteration 349, loss = 804153600.15878880\n",
            "Iteration 350, loss = 801566945.26423252\n",
            "Iteration 351, loss = 799193505.83628178\n",
            "Iteration 352, loss = 796827458.23755407\n",
            "Iteration 353, loss = 794078318.51783919\n",
            "Iteration 354, loss = 791717278.69546580\n",
            "Iteration 355, loss = 789114557.97812176\n",
            "Iteration 356, loss = 786817399.60129571\n",
            "Iteration 357, loss = 784300340.61237407\n",
            "Iteration 358, loss = 782006029.32880747\n",
            "Iteration 359, loss = 779530309.78548443\n",
            "Iteration 360, loss = 777191715.76485109\n",
            "Iteration 361, loss = 774774644.04261374\n",
            "Iteration 362, loss = 772635739.07948005\n",
            "Iteration 363, loss = 770078355.17868888\n",
            "Iteration 364, loss = 767742319.11376321\n",
            "Iteration 365, loss = 765382169.93686461\n",
            "Iteration 366, loss = 763203713.29788506\n",
            "Iteration 367, loss = 760805130.67216206\n",
            "Iteration 368, loss = 758586897.04350829\n",
            "Iteration 369, loss = 756190897.93724525\n",
            "Iteration 370, loss = 753915065.13947713\n",
            "Iteration 371, loss = 751780796.37887168\n",
            "Iteration 372, loss = 749768602.36621439\n",
            "Iteration 373, loss = 747208007.04163492\n",
            "Iteration 374, loss = 744883006.09989011\n",
            "Iteration 375, loss = 742631034.64796400\n",
            "Iteration 376, loss = 740566782.68098247\n",
            "Iteration 377, loss = 738301665.77676511\n",
            "Iteration 378, loss = 736128754.21457362\n",
            "Iteration 379, loss = 733826817.76502991\n",
            "Iteration 380, loss = 731809564.84774733\n",
            "Iteration 381, loss = 729493183.48632836\n",
            "Iteration 382, loss = 727456659.45153499\n",
            "Iteration 383, loss = 725207172.04685926\n",
            "Iteration 384, loss = 723040914.97449148\n",
            "Iteration 385, loss = 720937034.03853905\n",
            "Iteration 386, loss = 718837040.96321964\n",
            "Iteration 387, loss = 716798887.00916290\n",
            "Iteration 388, loss = 714674315.01043630\n",
            "Iteration 389, loss = 712483598.47772181\n",
            "Iteration 390, loss = 710464289.69910610\n",
            "Iteration 391, loss = 708306367.56795526\n",
            "Iteration 392, loss = 706254914.31278837\n",
            "Iteration 393, loss = 704186937.70457757\n",
            "Iteration 394, loss = 702175240.08320498\n",
            "Iteration 395, loss = 700310910.77363849\n",
            "Iteration 396, loss = 698069134.98901057\n",
            "Iteration 397, loss = 695978271.09227896\n",
            "Iteration 398, loss = 694387641.59332800\n",
            "Iteration 399, loss = 691998120.10823035\n",
            "Iteration 400, loss = 690104621.08075976\n",
            "Iteration 401, loss = 688028201.29456329\n",
            "Iteration 402, loss = 686016147.20066023\n",
            "Iteration 403, loss = 684085311.14315712\n",
            "Iteration 404, loss = 682113373.17048001\n",
            "Iteration 405, loss = 680144288.86376333\n",
            "Iteration 406, loss = 678241018.85960376\n",
            "Iteration 407, loss = 676249964.93449366\n",
            "Iteration 408, loss = 674254667.10609245\n",
            "Iteration 409, loss = 672389989.01000392\n",
            "Iteration 410, loss = 670527355.43085659\n",
            "Iteration 411, loss = 668589987.74949074\n",
            "Iteration 412, loss = 666646762.44809377\n",
            "Iteration 413, loss = 664670959.23854673\n",
            "Iteration 414, loss = 662771084.99719977\n",
            "Iteration 415, loss = 660876775.67323101\n",
            "Iteration 416, loss = 659042810.20118129\n",
            "Iteration 417, loss = 657173618.01867402\n",
            "Iteration 418, loss = 655227724.70800340\n",
            "Iteration 419, loss = 653481404.05487406\n",
            "Iteration 420, loss = 651561452.83412647\n",
            "Iteration 421, loss = 649739124.63570142\n",
            "Iteration 422, loss = 647927310.44953620\n",
            "Iteration 423, loss = 646039984.93387115\n",
            "Iteration 424, loss = 644228302.94051683\n",
            "Iteration 425, loss = 642561534.90431380\n",
            "Iteration 426, loss = 640702498.46600842\n",
            "Iteration 427, loss = 638838103.94571960\n",
            "Iteration 428, loss = 637083900.01050889\n",
            "Iteration 429, loss = 635235995.15324807\n",
            "Iteration 430, loss = 633528862.22102451\n",
            "Iteration 431, loss = 631773318.09173763\n",
            "Iteration 432, loss = 629945687.66355491\n",
            "Iteration 433, loss = 628198568.55600607\n",
            "Iteration 434, loss = 626496069.78837860\n",
            "Iteration 435, loss = 624803870.49190831\n",
            "Iteration 436, loss = 623040304.68685484\n",
            "Iteration 437, loss = 621367749.68386960\n",
            "Iteration 438, loss = 619509196.32037985\n",
            "Iteration 439, loss = 617896896.32906830\n",
            "Iteration 440, loss = 616364410.09868681\n",
            "Iteration 441, loss = 614418121.55105007\n",
            "Iteration 442, loss = 612750616.76331961\n",
            "Iteration 443, loss = 611167873.01699781\n",
            "Iteration 444, loss = 609400888.13188648\n",
            "Iteration 445, loss = 607770066.89686441\n",
            "Iteration 446, loss = 606139745.08644044\n",
            "Iteration 447, loss = 604440679.10105574\n",
            "Iteration 448, loss = 602822183.11303365\n",
            "Iteration 449, loss = 601201256.05307150\n",
            "Iteration 450, loss = 599475692.18964696\n",
            "Iteration 451, loss = 597884186.43542290\n",
            "Iteration 452, loss = 596254919.61755931\n",
            "Iteration 453, loss = 594626137.41386819\n",
            "Iteration 454, loss = 593089024.14171886\n",
            "Iteration 455, loss = 591396963.75676525\n",
            "Iteration 456, loss = 589858926.50193870\n",
            "Iteration 457, loss = 588159025.63787413\n",
            "Iteration 458, loss = 586548017.80938268\n",
            "Iteration 459, loss = 585164989.10733342\n",
            "Iteration 460, loss = 583458527.28488076\n",
            "Iteration 461, loss = 581916848.23566186\n",
            "Iteration 462, loss = 580391896.82288551\n",
            "Iteration 463, loss = 578813218.45026362\n",
            "Iteration 464, loss = 577318272.25130951\n",
            "Iteration 465, loss = 575811706.71625400\n",
            "Iteration 466, loss = 574306881.57178724\n",
            "Iteration 467, loss = 572617063.34066403\n",
            "Iteration 468, loss = 571283499.81592917\n",
            "Iteration 469, loss = 569612854.21674299\n",
            "Iteration 470, loss = 568099688.99279201\n",
            "Iteration 471, loss = 566652596.56041956\n",
            "Iteration 472, loss = 565041788.52967536\n",
            "Iteration 473, loss = 563710026.42999613\n",
            "Iteration 474, loss = 562195711.03919232\n",
            "Iteration 475, loss = 560815221.55138540\n",
            "Iteration 476, loss = 559303650.88570428\n",
            "Iteration 477, loss = 557793093.91024339\n",
            "Iteration 478, loss = 556326997.66157842\n",
            "Iteration 479, loss = 555097294.88502061\n",
            "Iteration 480, loss = 553470335.20755124\n",
            "Iteration 481, loss = 552028344.62940025\n",
            "Iteration 482, loss = 550725534.23264730\n",
            "Iteration 483, loss = 549182110.21184754\n",
            "Iteration 484, loss = 547795742.24234104\n",
            "Iteration 485, loss = 546333769.21315420\n",
            "Iteration 486, loss = 544975748.49815536\n",
            "Iteration 487, loss = 543538860.77257931\n",
            "Iteration 488, loss = 542142991.64102840\n",
            "Iteration 489, loss = 540835637.34672785\n",
            "Iteration 490, loss = 539407505.89749753\n",
            "Iteration 491, loss = 538097760.60717452\n",
            "Iteration 492, loss = 536651128.02610284\n",
            "Iteration 493, loss = 535345903.61526895\n",
            "Iteration 494, loss = 533999493.81036484\n",
            "Iteration 495, loss = 532806671.20611501\n",
            "Iteration 496, loss = 531295433.77938551\n",
            "Iteration 497, loss = 529974393.03132963\n",
            "Iteration 498, loss = 528615043.45996052\n",
            "Iteration 499, loss = 527487048.25229496\n",
            "Iteration 500, loss = 526066207.27463210\n"
          ]
        },
        {
          "output_type": "stream",
          "name": "stderr",
          "text": [
            "/usr/local/lib/python3.7/dist-packages/sklearn/neural_network/_multilayer_perceptron.py:571: ConvergenceWarning: Stochastic Optimizer: Maximum iterations (500) reached and the optimization hasn't converged yet.\n",
            "  % self.max_iter, ConvergenceWarning)\n"
          ]
        },
        {
          "output_type": "execute_result",
          "data": {
            "text/plain": [
              "MLPRegressor(activation='relu', alpha=1e-05, batch_size='auto', beta_1=0.9,\n",
              "             beta_2=0.999, early_stopping=False, epsilon=1e-08,\n",
              "             hidden_layer_sizes=(100, 25, 10), learning_rate='adaptive',\n",
              "             learning_rate_init=0.001, max_fun=15000, max_iter=500,\n",
              "             momentum=0.9, n_iter_no_change=10, nesterovs_momentum=True,\n",
              "             power_t=0.5, random_state=1, shuffle=True, solver='adam',\n",
              "             tol=1e-06, validation_fraction=0.1, verbose=True,\n",
              "             warm_start=False)"
            ]
          },
          "metadata": {},
          "execution_count": 146
        }
      ]
    },
    {
      "cell_type": "code",
      "metadata": {
        "colab": {
          "base_uri": "https://localhost:8080/"
        },
        "id": "2-0sbH3w6iBb",
        "outputId": "65d64443-fb39-4461-f0ba-b379e832f8a2"
      },
      "source": [
        "# Test our predictions\n",
        "\n",
        "print(train.shape)\n",
        "print(test.shape)\n",
        "\n",
        "print([i for i in train.columns if i not in test.columns])\n",
        "\n",
        "score = clf.score(test, y_test)\n",
        "print(score)"
      ],
      "execution_count": 147,
      "outputs": [
        {
          "output_type": "stream",
          "name": "stdout",
          "text": [
            "(978, 654)\n",
            "(482, 654)\n",
            "[]\n",
            "0.7367052341658086\n"
          ]
        }
      ]
    },
    {
      "cell_type": "code",
      "metadata": {
        "id": "azhY6i4aAvFm"
      },
      "source": [
        "# Load prediction data\n",
        "predict = pd.read_csv(\"test.csv\", na_filter=False, dtype=object)\n",
        "\n",
        "# Save IDs\n",
        "IDs = predict[\"Id\"]\n",
        "predict = predict.drop(labels=[\"Id\"], axis=1)"
      ],
      "execution_count": 150,
      "outputs": []
    },
    {
      "cell_type": "code",
      "metadata": {
        "colab": {
          "base_uri": "https://localhost:8080/"
        },
        "id": "3ofYaNjAAyIs",
        "outputId": "c2a65cda-29a0-4fa9-e88a-5948edd2d750"
      },
      "source": [
        "# Process Test Data\n",
        "\n",
        "# Several of the columns that were processed as numbers before contin \"NA\" in the test data\n",
        "# We've therefore imported all columns as strings, and will need to match the column types\n",
        "for col in trainBeforeNormalisation.columns:\n",
        "  if predict.dtypes[col] != trainBeforeNormalisation.dtypes[col]:\n",
        "    # As we've imported all the columns as strings, if they don't match this must be because the column was an integer in the training data\n",
        "    predict = handleColumnWithNA(predict, col, **means)\n",
        "\n",
        "# Scale\n",
        "predict = performNumericScaling(predict, False)\n",
        "predict = performOneHotEncoding(predict, False)\n",
        "\n",
        "print(predict.head())"
      ],
      "execution_count": 151,
      "outputs": [
        {
          "output_type": "stream",
          "name": "stdout",
          "text": [
            "['MSSubClass', 'LotFrontage', 'LotArea', 'OverallQual', 'OverallCond', 'YearBuilt', 'YearRemodAdd', 'BsmtFinSF1', 'BsmtFinSF2', 'BsmtUnfSF', 'TotalBsmtSF', '1stFlrSF', '2ndFlrSF', 'LowQualFinSF', 'GrLivArea', 'BsmtFullBath', 'BsmtHalfBath', 'FullBath', 'HalfBath', 'BedroomAbvGr', 'KitchenAbvGr', 'TotRmsAbvGrd', 'Fireplaces', 'GarageCars', 'GarageArea', 'WoodDeckSF', 'OpenPorchSF', 'EnclosedPorch', '3SsnPorch', 'ScreenPorch', 'PoolArea', 'MiscVal', 'MoSold', 'YrSold']\n",
            "['MSZoning', 'Street', 'Alley', 'LotShape', 'LandContour', 'Utilities', 'LotConfig', 'LandSlope', 'Neighborhood', 'Condition1', 'Condition2', 'BldgType', 'HouseStyle', 'RoofStyle', 'RoofMatl', 'Exterior1st', 'Exterior2nd', 'MasVnrType', 'MasVnrArea', 'ExterQual', 'ExterCond', 'Foundation', 'BsmtQual', 'BsmtCond', 'BsmtExposure', 'BsmtFinType1', 'BsmtFinType2', 'Heating', 'HeatingQC', 'CentralAir', 'Electrical', 'KitchenQual', 'Functional', 'FireplaceQu', 'GarageType', 'GarageYrBlt', 'GarageFinish', 'GarageQual', 'GarageCond', 'PavedDrive', 'PoolQC', 'Fence', 'MiscFeature', 'SaleType', 'SaleCondition']\n",
            "0\n",
            "0\n",
            "0\n",
            "     MSSubClass  LotFrontage   LotArea  OverallQual  ...  616  617  618  619\n",
            "0  4.382694e-10     0.202055  0.048246     0.444444  ...  0.0  0.0  1.0  0.0\n",
            "1  4.382694e-10     0.205479  0.060609     0.555556  ...  0.0  0.0  1.0  0.0\n",
            "2  2.352941e-01     0.181507  0.058566     0.444444  ...  0.0  0.0  1.0  0.0\n",
            "3  2.352941e-01     0.195205  0.040562     0.555556  ...  0.0  0.0  1.0  0.0\n",
            "4  5.882353e-01     0.075342  0.017318     0.777778  ...  0.0  0.0  1.0  0.0\n",
            "\n",
            "[5 rows x 654 columns]\n"
          ]
        }
      ]
    },
    {
      "cell_type": "code",
      "metadata": {
        "colab": {
          "base_uri": "https://localhost:8080/",
          "height": 286
        },
        "id": "9qcR1CfJBdJg",
        "outputId": "e1e2286d-bcc7-483c-cdeb-086a72f6374c"
      },
      "source": [
        "predictions = clf.predict(predict)\n",
        "predictions = pd.concat((IDs, pd.Series(predictions, name=\"Prediction\")), axis=1)\n",
        "predictions.to_csv(\"predictions.csv\")\n",
        "files.download(\"predictions.csv\")\n",
        "print(predictions)"
      ],
      "execution_count": 155,
      "outputs": [
        {
          "output_type": "display_data",
          "data": {
            "application/javascript": [
              "\n",
              "    async function download(id, filename, size) {\n",
              "      if (!google.colab.kernel.accessAllowed) {\n",
              "        return;\n",
              "      }\n",
              "      const div = document.createElement('div');\n",
              "      const label = document.createElement('label');\n",
              "      label.textContent = `Downloading \"${filename}\": `;\n",
              "      div.appendChild(label);\n",
              "      const progress = document.createElement('progress');\n",
              "      progress.max = size;\n",
              "      div.appendChild(progress);\n",
              "      document.body.appendChild(div);\n",
              "\n",
              "      const buffers = [];\n",
              "      let downloaded = 0;\n",
              "\n",
              "      const channel = await google.colab.kernel.comms.open(id);\n",
              "      // Send a message to notify the kernel that we're ready.\n",
              "      channel.send({})\n",
              "\n",
              "      for await (const message of channel.messages) {\n",
              "        // Send a message to notify the kernel that we're ready.\n",
              "        channel.send({})\n",
              "        if (message.buffers) {\n",
              "          for (const buffer of message.buffers) {\n",
              "            buffers.push(buffer);\n",
              "            downloaded += buffer.byteLength;\n",
              "            progress.value = downloaded;\n",
              "          }\n",
              "        }\n",
              "      }\n",
              "      const blob = new Blob(buffers, {type: 'application/binary'});\n",
              "      const a = document.createElement('a');\n",
              "      a.href = window.URL.createObjectURL(blob);\n",
              "      a.download = filename;\n",
              "      div.appendChild(a);\n",
              "      a.click();\n",
              "      div.remove();\n",
              "    }\n",
              "  "
            ],
            "text/plain": [
              "<IPython.core.display.Javascript object>"
            ]
          },
          "metadata": {}
        },
        {
          "output_type": "display_data",
          "data": {
            "application/javascript": [
              "download(\"download_e7661049-c155-4ff6-bfd7-62b79e6c4638\", \"predictions.csv\", 40667)"
            ],
            "text/plain": [
              "<IPython.core.display.Javascript object>"
            ]
          },
          "metadata": {}
        },
        {
          "output_type": "stream",
          "name": "stdout",
          "text": [
            "        Id     Prediction\n",
            "0     1461  111175.016506\n",
            "1     1462  162018.320853\n",
            "2     1463  196177.549978\n",
            "3     1464  230526.429297\n",
            "4     1465  198576.999708\n",
            "...    ...            ...\n",
            "1454  2915   86927.015666\n",
            "1455  2916  100933.546606\n",
            "1456  2917  154707.549640\n",
            "1457  2918  104489.677822\n",
            "1458  2919  219970.838257\n",
            "\n",
            "[1459 rows x 2 columns]\n"
          ]
        }
      ]
    }
  ]
}