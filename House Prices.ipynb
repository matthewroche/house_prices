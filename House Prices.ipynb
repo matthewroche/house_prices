{
  "nbformat": 4,
  "nbformat_minor": 0,
  "metadata": {
    "colab": {
      "name": "Untitled1.ipynb",
      "provenance": [],
      "collapsed_sections": [],
      "authorship_tag": "ABX9TyPW//SjPj0X3pfvgv0J5eAz",
      "include_colab_link": true
    },
    "kernelspec": {
      "name": "python3",
      "display_name": "Python 3"
    },
    "language_info": {
      "name": "python"
    }
  },
  "cells": [
    {
      "cell_type": "markdown",
      "metadata": {
        "id": "view-in-github",
        "colab_type": "text"
      },
      "source": [
        "<a href=\"https://colab.research.google.com/github/matthewroche/house_prices/blob/main/House%20Prices.ipynb\" target=\"_parent\"><img src=\"https://colab.research.google.com/assets/colab-badge.svg\" alt=\"Open In Colab\"/></a>"
      ]
    },
    {
      "cell_type": "code",
      "metadata": {
        "colab": {
          "resources": {
            "http://localhost:8080/nbextensions/google.colab/files.js": {
              "data": "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",
              "ok": true,
              "headers": [
                [
                  "content-type",
                  "application/javascript"
                ]
              ],
              "status": 200,
              "status_text": ""
            }
          },
          "base_uri": "https://localhost:8080/",
          "height": 90
        },
        "id": "Q5mUUEF-MncO",
        "outputId": "22ccbe0f-aefb-4cfc-e63b-3caafbd05c49"
      },
      "source": [
        "from google.colab import files\n",
        "\n",
        "uploaded = files.upload()\n",
        "\n",
        "for fn in uploaded.keys():\n",
        "  print('User uploaded file \"{name}\" with length {length} bytes'.format(\n",
        "      name=fn, length=len(uploaded[fn])))\n",
        "  \n",
        "# Then move kaggle.json into the folder where the API expects to find it.\n",
        "!mkdir -p ~/.kaggle/ && mv kaggle.json ~/.kaggle/ && chmod 600 ~/.kaggle/kaggle.json\n",
        "\n"
      ],
      "execution_count": 58,
      "outputs": [
        {
          "output_type": "display_data",
          "data": {
            "text/html": [
              "\n",
              "     <input type=\"file\" id=\"files-cee62ddf-3bd7-46b1-abff-58c63e3928fe\" name=\"files[]\" multiple disabled\n",
              "        style=\"border:none\" />\n",
              "     <output id=\"result-cee62ddf-3bd7-46b1-abff-58c63e3928fe\">\n",
              "      Upload widget is only available when the cell has been executed in the\n",
              "      current browser session. Please rerun this cell to enable.\n",
              "      </output>\n",
              "      <script src=\"/nbextensions/google.colab/files.js\"></script> "
            ],
            "text/plain": [
              "<IPython.core.display.HTML object>"
            ]
          },
          "metadata": {}
        },
        {
          "output_type": "stream",
          "name": "stdout",
          "text": [
            "Saving kaggle.json to kaggle.json\n",
            "User uploaded file \"kaggle.json\" with length 68 bytes\n"
          ]
        }
      ]
    },
    {
      "cell_type": "code",
      "metadata": {
        "colab": {
          "base_uri": "https://localhost:8080/"
        },
        "id": "Sll_WmwFNNmq",
        "outputId": "22d1186c-e889-4324-c402-d12ebde59531"
      },
      "source": [
        "import kaggle\n",
        "!kaggle competitions download house-prices-advanced-regression-techniques"
      ],
      "execution_count": 154,
      "outputs": [
        {
          "output_type": "stream",
          "name": "stdout",
          "text": [
            "Warning: Looks like you're using an outdated API Version, please consider updating (server 1.5.12 / client 1.5.4)\n",
            "sample_submission.csv: Skipping, found more recently modified local copy (use --force to force download)\n",
            "train.csv: Skipping, found more recently modified local copy (use --force to force download)\n",
            "test.csv: Skipping, found more recently modified local copy (use --force to force download)\n",
            "data_description.txt: Skipping, found more recently modified local copy (use --force to force download)\n"
          ]
        }
      ]
    },
    {
      "cell_type": "code",
      "metadata": {
        "colab": {
          "base_uri": "https://localhost:8080/"
        },
        "id": "4P2c3X9vNyCm",
        "outputId": "6ddb7b38-8dff-4f75-bc9e-40364d513b3b"
      },
      "source": [
        "import pandas as pd\n",
        "\n",
        "train = pd.read_csv(\"train.csv\", na_filter=False)\n",
        "\n",
        "print(train.shape)\n",
        "print(train.columns)"
      ],
      "execution_count": 367,
      "outputs": [
        {
          "output_type": "stream",
          "name": "stdout",
          "text": [
            "(1460, 81)\n",
            "Index(['Id', 'MSSubClass', 'MSZoning', 'LotFrontage', 'LotArea', 'Street',\n",
            "       'Alley', 'LotShape', 'LandContour', 'Utilities', 'LotConfig',\n",
            "       'LandSlope', 'Neighborhood', 'Condition1', 'Condition2', 'BldgType',\n",
            "       'HouseStyle', 'OverallQual', 'OverallCond', 'YearBuilt', 'YearRemodAdd',\n",
            "       'RoofStyle', 'RoofMatl', 'Exterior1st', 'Exterior2nd', 'MasVnrType',\n",
            "       'MasVnrArea', 'ExterQual', 'ExterCond', 'Foundation', 'BsmtQual',\n",
            "       'BsmtCond', 'BsmtExposure', 'BsmtFinType1', 'BsmtFinSF1',\n",
            "       'BsmtFinType2', 'BsmtFinSF2', 'BsmtUnfSF', 'TotalBsmtSF', 'Heating',\n",
            "       'HeatingQC', 'CentralAir', 'Electrical', '1stFlrSF', '2ndFlrSF',\n",
            "       'LowQualFinSF', 'GrLivArea', 'BsmtFullBath', 'BsmtHalfBath', 'FullBath',\n",
            "       'HalfBath', 'BedroomAbvGr', 'KitchenAbvGr', 'KitchenQual',\n",
            "       'TotRmsAbvGrd', 'Functional', 'Fireplaces', 'FireplaceQu', 'GarageType',\n",
            "       'GarageYrBlt', 'GarageFinish', 'GarageCars', 'GarageArea', 'GarageQual',\n",
            "       'GarageCond', 'PavedDrive', 'WoodDeckSF', 'OpenPorchSF',\n",
            "       'EnclosedPorch', '3SsnPorch', 'ScreenPorch', 'PoolArea', 'PoolQC',\n",
            "       'Fence', 'MiscFeature', 'MiscVal', 'MoSold', 'YrSold', 'SaleType',\n",
            "       'SaleCondition', 'SalePrice'],\n",
            "      dtype='object')\n"
          ]
        }
      ]
    },
    {
      "cell_type": "code",
      "metadata": {
        "colab": {
          "base_uri": "https://localhost:8080/"
        },
        "id": "UHBOrtg82q0S",
        "outputId": "f2882ef1-ad4e-44a9-c2f4-ab0dc903e246"
      },
      "source": [
        "# Check column types\n",
        "print(pd.DataFrame(train.dtypes).to_string())"
      ],
      "execution_count": 302,
      "outputs": [
        {
          "output_type": "stream",
          "name": "stdout",
          "text": [
            "                    0\n",
            "Id              int64\n",
            "MSSubClass      int64\n",
            "MSZoning       object\n",
            "LotFrontage    object\n",
            "LotArea         int64\n",
            "Street         object\n",
            "Alley          object\n",
            "LotShape       object\n",
            "LandContour    object\n",
            "Utilities      object\n",
            "LotConfig      object\n",
            "LandSlope      object\n",
            "Neighborhood   object\n",
            "Condition1     object\n",
            "Condition2     object\n",
            "BldgType       object\n",
            "HouseStyle     object\n",
            "OverallQual     int64\n",
            "OverallCond     int64\n",
            "YearBuilt       int64\n",
            "YearRemodAdd    int64\n",
            "RoofStyle      object\n",
            "RoofMatl       object\n",
            "Exterior1st    object\n",
            "Exterior2nd    object\n",
            "MasVnrType     object\n",
            "MasVnrArea     object\n",
            "ExterQual      object\n",
            "ExterCond      object\n",
            "Foundation     object\n",
            "BsmtQual       object\n",
            "BsmtCond       object\n",
            "BsmtExposure   object\n",
            "BsmtFinType1   object\n",
            "BsmtFinSF1      int64\n",
            "BsmtFinType2   object\n",
            "BsmtFinSF2      int64\n",
            "BsmtUnfSF       int64\n",
            "TotalBsmtSF     int64\n",
            "Heating        object\n",
            "HeatingQC      object\n",
            "CentralAir     object\n",
            "Electrical     object\n",
            "1stFlrSF        int64\n",
            "2ndFlrSF        int64\n",
            "LowQualFinSF    int64\n",
            "GrLivArea       int64\n",
            "BsmtFullBath    int64\n",
            "BsmtHalfBath    int64\n",
            "FullBath        int64\n",
            "HalfBath        int64\n",
            "BedroomAbvGr    int64\n",
            "KitchenAbvGr    int64\n",
            "KitchenQual    object\n",
            "TotRmsAbvGrd    int64\n",
            "Functional     object\n",
            "Fireplaces      int64\n",
            "FireplaceQu    object\n",
            "GarageType     object\n",
            "GarageYrBlt    object\n",
            "GarageFinish   object\n",
            "GarageCars      int64\n",
            "GarageArea      int64\n",
            "GarageQual     object\n",
            "GarageCond     object\n",
            "PavedDrive     object\n",
            "WoodDeckSF      int64\n",
            "OpenPorchSF     int64\n",
            "EnclosedPorch   int64\n",
            "3SsnPorch       int64\n",
            "ScreenPorch     int64\n",
            "PoolArea        int64\n",
            "PoolQC         object\n",
            "Fence          object\n",
            "MiscFeature    object\n",
            "MiscVal         int64\n",
            "MoSold          int64\n",
            "YrSold          int64\n",
            "SaleType       object\n",
            "SaleCondition  object\n",
            "SalePrice       int64\n"
          ]
        }
      ]
    },
    {
      "cell_type": "code",
      "metadata": {
        "id": "qVlF3PMA8EkD"
      },
      "source": [
        "# Split inputs and outputs\n",
        "output = train[\"SalePrice\"]\n",
        "train = train.drop([\"SalePrice\"], axis=1)"
      ],
      "execution_count": 368,
      "outputs": []
    },
    {
      "cell_type": "code",
      "metadata": {
        "id": "ciOD8QWM7a8X"
      },
      "source": [
        "# Notice lot frontage has been processed as a string as it contains \"NA\"s\n",
        "# Replace NA's with mean\n",
        "\n",
        "def handleColumnWithNA(df, colName, **means):\n",
        "  df[colName] = pd.to_numeric(df[colName], errors=\"coerce\", downcast=\"float\")\n",
        "  if colName in means:\n",
        "    df[colName].fillna(means[colName], inplace = True)\n",
        "  else:\n",
        "    df[colName].fillna(df[colName].mean(), inplace = True)\n",
        "  return df\n",
        "\n",
        "train = handleColumnWithNA(train, \"LotFrontage\")\n",
        "\n",
        "means = train.mean(axis=0)"
      ],
      "execution_count": 369,
      "outputs": []
    },
    {
      "cell_type": "code",
      "metadata": {
        "id": "sa-zuxkBO8Zt"
      },
      "source": [
        "# Drop ID column\n",
        "train.drop(labels=\"Id\", axis=1, inplace=True)"
      ],
      "execution_count": 370,
      "outputs": []
    },
    {
      "cell_type": "code",
      "metadata": {
        "id": "MXmAIGhXVZJ4"
      },
      "source": [
        "# Check for other NaN\n",
        "\n",
        "nanCols = []\n",
        "\n",
        "for col in train.columns:\n",
        "  if train[col].isnull().values.any():\n",
        "    nanCols.append(col)\n",
        "    print(f\"Column: {col}\")\n",
        "    print(train[col].isnull().sum())\n",
        "    print(train[col][train[col].isnull()])"
      ],
      "execution_count": 371,
      "outputs": []
    },
    {
      "cell_type": "code",
      "metadata": {
        "id": "1_xzqH8raO8F"
      },
      "source": [
        "# Wide range of means and standard deviations - lets adjust\n",
        "\n",
        "trainBeforeNormalisation = train\n",
        "\n",
        "import numpy as np\n",
        "from sklearn import preprocessing\n",
        "from pandas.api.types import is_numeric_dtype\n",
        "min_max_scaler = preprocessing.MinMaxScaler()\n",
        "\n",
        "def performNumericScaling(df, initial):\n",
        "\n",
        "  # First get only the columns containing numeric data\n",
        "  numericCols = []\n",
        "  for col in test.columns:\n",
        "    if is_numeric_dtype(test.dtypes[col]):\n",
        "      numericCols.append(col)\n",
        "\n",
        "  # Build a new data frame with just these columns\n",
        "  numericDf = df[numericCols]\n",
        "\n",
        "  # Do the scaling\n",
        "  x = numericDf.values #returns a numpy array\n",
        "  if initial:\n",
        "    min_max_scaler.fit(x)\n",
        "  x_scaled = min_max_scaler.transform(x)\n",
        "  numericDf = pd.DataFrame(x_scaled, columns=numericDf.columns)\n",
        "\n",
        "  # Put the scaled columns back into our original data frame\n",
        "  for col in numericCols:\n",
        "    df.drop([col], axis=1)\n",
        "    df[col] = numericDf[col]\n",
        "\n",
        "  return df\n",
        "\n",
        "train = performNumericScaling(train, True)"
      ],
      "execution_count": 373,
      "outputs": []
    },
    {
      "cell_type": "code",
      "metadata": {
        "id": "Iy0qE1TQgrYg"
      },
      "source": [
        "# Encode strings\n",
        "\n",
        "from sklearn.preprocessing import OneHotEncoder\n",
        "enc = OneHotEncoder(handle_unknown='ignore', sparse=True)\n",
        "\n",
        "def performOneHotEncoding(df, initial):\n",
        "\n",
        "  strCols = []\n",
        "  for col in df.columns:\n",
        "    if df.dtypes[col] == object:\n",
        "      strCols.append(col)\n",
        "\n",
        "  # Build a new data frame with just these columns\n",
        "  stringDf = df[strCols]\n",
        "  \n",
        "  if initial:\n",
        "    enc.fit(stringDf.values)\n",
        "  fit = enc.transform(stringDf.values).toarray()\n",
        "\n",
        "  # Not adding column headers as they don't matter\n",
        "  stringDfEncoded = pd.DataFrame(fit)\n",
        "\n",
        "  df.drop(labels=strCols, axis=1, inplace=True)\n",
        "  df = df.join(stringDfEncoded)\n",
        "  return df\n",
        "  \n",
        "train = performOneHotEncoding(train, True)"
      ],
      "execution_count": 374,
      "outputs": []
    },
    {
      "cell_type": "code",
      "metadata": {
        "colab": {
          "base_uri": "https://localhost:8080/"
        },
        "id": "plgmYFbIdX0k",
        "outputId": "fd93ce16-f960-483e-9635-61a48636361a"
      },
      "source": [
        "# Train a neural net\n",
        "print(train.shape)\n",
        "from sklearn.neural_network import MLPRegressor\n",
        "clf = MLPRegressor(solver='lbfgs', alpha=1e-5, hidden_layer_sizes=(5, 2), random_state=1)\n",
        "clf.fit(train, output)"
      ],
      "execution_count": 383,
      "outputs": [
        {
          "output_type": "stream",
          "name": "stdout",
          "text": [
            "(1460, 728)\n"
          ]
        },
        {
          "output_type": "execute_result",
          "data": {
            "text/plain": [
              "MLPRegressor(activation='relu', alpha=1e-05, batch_size='auto', beta_1=0.9,\n",
              "             beta_2=0.999, early_stopping=False, epsilon=1e-08,\n",
              "             hidden_layer_sizes=(5, 2), learning_rate='constant',\n",
              "             learning_rate_init=0.001, max_fun=15000, max_iter=200,\n",
              "             momentum=0.9, n_iter_no_change=10, nesterovs_momentum=True,\n",
              "             power_t=0.5, random_state=1, shuffle=True, solver='lbfgs',\n",
              "             tol=0.0001, validation_fraction=0.1, verbose=False,\n",
              "             warm_start=False)"
            ]
          },
          "metadata": {},
          "execution_count": 383
        }
      ]
    },
    {
      "cell_type": "code",
      "metadata": {
        "id": "azhY6i4aAvFm"
      },
      "source": [
        "# Load test data\n",
        "test = pd.read_csv(\"test.csv\", na_filter=False, dtype=object)\n",
        "\n",
        "# Save IDs\n",
        "IDs = test[\"Id\"]\n",
        "test = test.drop(labels=[\"Id\"], axis=1)"
      ],
      "execution_count": 385,
      "outputs": []
    },
    {
      "cell_type": "code",
      "metadata": {
        "colab": {
          "base_uri": "https://localhost:8080/"
        },
        "id": "IdbLCUHPAVtK",
        "outputId": "a41ce70d-c95f-410d-c04a-59d68a3c2681"
      },
      "source": [
        "# Compare train / test data types\n",
        "trainDTypes = trainBeforeNormalisation.dtypes\n",
        "trainDTypes.name = \"Train\"\n",
        "testDTypes = test.dtypes\n",
        "testDTypes.name = \"Test\"\n",
        "print(pd.concat((trainDTypes, testDTypes), axis=1).to_string())"
      ],
      "execution_count": 386,
      "outputs": [
        {
          "output_type": "stream",
          "name": "stdout",
          "text": [
            "                 Train    Test\n",
            "MSSubClass     float64  object\n",
            "LotFrontage    float64  object\n",
            "LotArea        float64  object\n",
            "OverallQual    float64  object\n",
            "OverallCond    float64  object\n",
            "YearBuilt      float64  object\n",
            "YearRemodAdd   float64  object\n",
            "BsmtFinSF1     float64  object\n",
            "BsmtFinSF2     float64  object\n",
            "BsmtUnfSF      float64  object\n",
            "TotalBsmtSF    float64  object\n",
            "1stFlrSF       float64  object\n",
            "2ndFlrSF       float64  object\n",
            "LowQualFinSF   float64  object\n",
            "GrLivArea      float64  object\n",
            "BsmtFullBath   float64  object\n",
            "BsmtHalfBath   float64  object\n",
            "FullBath       float64  object\n",
            "HalfBath       float64  object\n",
            "BedroomAbvGr   float64  object\n",
            "KitchenAbvGr   float64  object\n",
            "TotRmsAbvGrd   float64  object\n",
            "Fireplaces     float64  object\n",
            "GarageCars     float64  object\n",
            "GarageArea     float64  object\n",
            "WoodDeckSF     float64  object\n",
            "OpenPorchSF    float64  object\n",
            "EnclosedPorch  float64  object\n",
            "3SsnPorch      float64  object\n",
            "ScreenPorch    float64  object\n",
            "PoolArea       float64  object\n",
            "MiscVal        float64  object\n",
            "MoSold         float64  object\n",
            "YrSold         float64  object\n",
            "MSZoning           NaN  object\n",
            "Street             NaN  object\n",
            "Alley              NaN  object\n",
            "LotShape           NaN  object\n",
            "LandContour        NaN  object\n",
            "Utilities          NaN  object\n",
            "LotConfig          NaN  object\n",
            "LandSlope          NaN  object\n",
            "Neighborhood       NaN  object\n",
            "Condition1         NaN  object\n",
            "Condition2         NaN  object\n",
            "BldgType           NaN  object\n",
            "HouseStyle         NaN  object\n",
            "RoofStyle          NaN  object\n",
            "RoofMatl           NaN  object\n",
            "Exterior1st        NaN  object\n",
            "Exterior2nd        NaN  object\n",
            "MasVnrType         NaN  object\n",
            "MasVnrArea         NaN  object\n",
            "ExterQual          NaN  object\n",
            "ExterCond          NaN  object\n",
            "Foundation         NaN  object\n",
            "BsmtQual           NaN  object\n",
            "BsmtCond           NaN  object\n",
            "BsmtExposure       NaN  object\n",
            "BsmtFinType1       NaN  object\n",
            "BsmtFinType2       NaN  object\n",
            "Heating            NaN  object\n",
            "HeatingQC          NaN  object\n",
            "CentralAir         NaN  object\n",
            "Electrical         NaN  object\n",
            "KitchenQual        NaN  object\n",
            "Functional         NaN  object\n",
            "FireplaceQu        NaN  object\n",
            "GarageType         NaN  object\n",
            "GarageYrBlt        NaN  object\n",
            "GarageFinish       NaN  object\n",
            "GarageQual         NaN  object\n",
            "GarageCond         NaN  object\n",
            "PavedDrive         NaN  object\n",
            "PoolQC             NaN  object\n",
            "Fence              NaN  object\n",
            "MiscFeature        NaN  object\n",
            "SaleType           NaN  object\n",
            "SaleCondition      NaN  object\n"
          ]
        }
      ]
    },
    {
      "cell_type": "code",
      "metadata": {
        "colab": {
          "base_uri": "https://localhost:8080/"
        },
        "id": "3ofYaNjAAyIs",
        "outputId": "7d17c660-5655-442a-b827-6804f1f9f709"
      },
      "source": [
        "# Process Test Data\n",
        "\n",
        "# Several of the columns that were processed as numbers before contin \"NA\" in the test data\n",
        "# We've therefore imported all columns as strings, and will need to match the column types\n",
        "for col in trainBeforeNormalisation.columns:\n",
        "  if test.dtypes[col] != trainBeforeNormalisation.dtypes[col]:\n",
        "    # As we've imported all the columns as strings, if they don't match this must be because the column was an integer in the training data\n",
        "    test = handleColumnWithNA(test, col, **means)\n",
        "\n",
        "# Scale\n",
        "test = performNumericScaling(test, False)\n",
        "test = performOneHotEncoding(test, False)\n",
        "\n",
        "print(test.shape)"
      ],
      "execution_count": 387,
      "outputs": [
        {
          "output_type": "stream",
          "name": "stdout",
          "text": [
            "(1459, 728)\n"
          ]
        }
      ]
    },
    {
      "cell_type": "code",
      "metadata": {
        "id": "9qcR1CfJBdJg"
      },
      "source": [
        "\n"
      ],
      "execution_count": 387,
      "outputs": []
    }
  ]
}